{
  "nbformat": 4,
  "nbformat_minor": 0,
  "metadata": {
    "colab": {
      "provenance": [],
      "authorship_tag": "ABX9TyMyg+skpsCGMMif0s4dx+od",
      "include_colab_link": true
    },
    "kernelspec": {
      "name": "python3",
      "display_name": "Python 3"
    },
    "language_info": {
      "name": "python"
    }
  },
  "cells": [
    {
      "cell_type": "markdown",
      "metadata": {
        "id": "view-in-github",
        "colab_type": "text"
      },
      "source": [
        "<a href=\"https://colab.research.google.com/github/ravindu-san/AI-ML/blob/dataset-loading-func/test/end_to_end_ml_project.ipynb\" target=\"_parent\"><img src=\"https://colab.research.google.com/assets/colab-badge.svg\" alt=\"Open In Colab\"/></a>"
      ]
    },
    {
      "cell_type": "code",
      "execution_count": null,
      "metadata": {
        "id": "SdvqpSkfVR55"
      },
      "outputs": [],
      "source": [
        "from pathlib import Path\n",
        "from urllib.request import urlretrieve\n",
        "import tarfile\n",
        "import pandas as pd\n",
        "\n",
        "def load_dataset(path, download_url):\n",
        "  tarball_path = Path(path)\n",
        "  if not tarball_path.is_file():\n",
        "    Path(\"datasets\").mkdir(parents=True, exist_ok=True)\n",
        "    urlretrieve(download_url, tarball_path)\n",
        "    with tarfile.open(tarball_path) as dataset_tarball:\n",
        "      dataset_tarball.extractall(path=\"datasets\")\n",
        "  return pd.read_csv(Path(\"datasets/housing/housing.csv\"))\n",
        "\n",
        "\n",
        "housing_data = load_dataset(\n",
        "    \"datasets/housing.tgz\", \n",
        "    \"https://github.com/ageron/data/raw/main/housing.tgz\"\n",
        "    )"
      ]
    },
    {
      "cell_type": "code",
      "source": [
        "housing_data.head()"
      ],
      "metadata": {
        "id": "hWhsWEGqBKKD"
      },
      "execution_count": null,
      "outputs": []
    }
  ]
}