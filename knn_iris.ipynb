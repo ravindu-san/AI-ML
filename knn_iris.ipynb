{
  "nbformat": 4,
  "nbformat_minor": 0,
  "metadata": {
    "colab": {
      "provenance": [],
      "authorship_tag": "ABX9TyPj9CP7KRNowlg6YprP799C",
      "include_colab_link": true
    },
    "kernelspec": {
      "name": "python3",
      "display_name": "Python 3"
    },
    "language_info": {
      "name": "python"
    }
  },
  "cells": [
    {
      "cell_type": "markdown",
      "metadata": {
        "id": "view-in-github",
        "colab_type": "text"
      },
      "source": [
        "<a href=\"https://colab.research.google.com/github/ravindu-san/AI-ML/blob/knn/knn_iris.ipynb\" target=\"_parent\"><img src=\"https://colab.research.google.com/assets/colab-badge.svg\" alt=\"Open In Colab\"/></a>"
      ]
    },
    {
      "cell_type": "code",
      "source": [
        "from sklearn.datasets import load_iris\n",
        "from sklearn.model_selection import train_test_split\n",
        "import pandas as pd\n",
        "from sklearn.neighbors import KNeighborsClassifier\n",
        "import numpy as np"
      ],
      "metadata": {
        "id": "273zWhMN0WiO"
      },
      "execution_count": null,
      "outputs": []
    },
    {
      "cell_type": "code",
      "source": [
        "iris_dataset = load_iris()"
      ],
      "metadata": {
        "id": "9csyS_1yoC4z"
      },
      "execution_count": null,
      "outputs": []
    },
    {
      "cell_type": "code",
      "source": [
        "print(\"Iris dataset keys: \\n{}\".format(iris_dataset.keys()))"
      ],
      "metadata": {
        "id": "U6MaJt6d15O-"
      },
      "execution_count": null,
      "outputs": []
    },
    {
      "cell_type": "code",
      "source": [
        "print(iris_dataset['DESCR'])"
      ],
      "metadata": {
        "id": "YWopG5or2Ygz"
      },
      "execution_count": null,
      "outputs": []
    },
    {
      "cell_type": "code",
      "source": [
        "print(iris_dataset['feature_names'])\n",
        "print(iris_dataset['target_names'])"
      ],
      "metadata": {
        "id": "bKvQn-Y_3KPi"
      },
      "execution_count": null,
      "outputs": []
    },
    {
      "cell_type": "code",
      "source": [
        "print(type(iris_dataset['data']))\n",
        "print(iris_dataset['data'].shape)\n",
        "print(iris_dataset['data'][:5])"
      ],
      "metadata": {
        "id": "hDmg6Nso3llf"
      },
      "execution_count": null,
      "outputs": []
    },
    {
      "cell_type": "code",
      "source": [
        "print(type(iris_dataset['target']))\n",
        "print(iris_dataset['target'].shape)\n",
        "print(iris_dataset['target'][:5])"
      ],
      "metadata": {
        "id": "V2rmZRCF32i5"
      },
      "execution_count": null,
      "outputs": []
    },
    {
      "cell_type": "code",
      "source": [
        "X_train, X_test, y_train, y_test = train_test_split(iris_dataset['data'], iris_dataset['target'], random_state=0)\n",
        "\n",
        "print(X_train.shape)\n",
        "print(X_test.shape)\n",
        "print(y_train.shape)\n",
        "print(y_test.shape)"
      ],
      "metadata": {
        "id": "CfyCeshH4x1R"
      },
      "execution_count": null,
      "outputs": []
    },
    {
      "cell_type": "code",
      "source": [
        "# explore data by visualizing\n",
        "# pair plot (scatter matrix)\n",
        "\n",
        "iris_dataframe = pd.DataFrame(X_train, columns=iris_dataset['feature_names'])\n",
        "scatter_matrix = pd.plotting.scatter_matrix(iris_dataframe, c=y_train, diagonal='kde', alpha=0.8, marker='o', figsize=(10,10))"
      ],
      "metadata": {
        "id": "0fFjVXhefM8O"
      },
      "execution_count": null,
      "outputs": []
    },
    {
      "cell_type": "code",
      "source": [
        "# fit\n",
        "\n",
        "knn = KNeighborsClassifier(n_neighbors=1)\n",
        "knn.fit(X_train, y_train)"
      ],
      "metadata": {
        "id": "1DHsjIuJoMhr"
      },
      "execution_count": null,
      "outputs": []
    },
    {
      "cell_type": "code",
      "source": [
        "# test\n",
        "\n",
        "y_test_pred = knn.predict(X_test)\n",
        "print('Accuracy: {: .2f}'.format(np.mean(y_test == y_test_pred)))"
      ],
      "metadata": {
        "id": "t6Za7pkgsfso"
      },
      "execution_count": null,
      "outputs": []
    },
    {
      "cell_type": "code",
      "source": [
        "# or accuracy using score method of Knn\n",
        "\n",
        "print('Accuracy: {: .2f}'.format(knn.score(X_test, y_test)))"
      ],
      "metadata": {
        "id": "gkfS8WCHtHGt"
      },
      "execution_count": null,
      "outputs": []
    },
    {
      "cell_type": "code",
      "source": [
        "# prediction\n",
        "\n",
        "X_new = np.array([[5, 2.9, 1, 0.2]])\n",
        "\n",
        "prediction = knn.predict(X_new)\n",
        "\n",
        "print('Prediction: {}'.format(prediction))\n",
        "print('Prediction Target Name: {}'.format(iris_dataset['target_names'][prediction]))"
      ],
      "metadata": {
        "id": "ihYetk25qIle"
      },
      "execution_count": null,
      "outputs": []
    }
  ]
}